{
 "cells": [
  {
   "cell_type": "code",
   "execution_count": 7,
   "metadata": {},
   "outputs": [
    {
     "name": "stdout",
     "output_type": "stream",
     "text": [
      "Top 5 recommended animes for Kimi no Na wa.\n",
      "Shounen Ninja Kaze no Fujimaru: Nazo no Arabiya Ningyou (Anime ID: 19983), Similarity: 1.0\n",
      "Kimi no Na wa. (Anime ID: 32281), Similarity: 1.0\n",
      "Sekai Seifuku: Bouryaku no Zvezda - Shin Zvezda Daisakusen (Anime ID: 23459), Similarity: 0.9999999999999996\n",
      "Cross Ange: Tenshi to Ryuu no Rondo (Anime ID: 25731), Similarity: 0.9999999999999989\n",
      "Ore no Imouto ga Konnani Kawaii Wake ga Nai.: Ore no Imouto ga Konnani Eroge na Wake Nai (Anime ID: 23363), Similarity: 0.9999999999999982\n"
     ]
    }
   ],
   "source": [
    "import pandas as pd\n",
    "from sklearn.impute import SimpleImputer\n",
    "from sklearn.neighbors import NearestNeighbors\n",
    "\n",
    "# Load data into a pandas DataFrame with NaN values\n",
    "data = pd.read_csv('anime.csv')\n",
    "\n",
    "# Introduce NaN values in the 'rating' column\n",
    "data.loc[data['anime_id'] == 28977, 'rating'] = None\n",
    "data.loc[data['anime_id'] == 820, 'rating'] = None\n",
    "\n",
    "# Handle missing values using SimpleImputer\n",
    "imputer = SimpleImputer(strategy='mean')\n",
    "data['rating'] = imputer.fit_transform(data[['rating']])\n",
    "\n",
    "# Extract features for collaborative filtering\n",
    "X = data[['anime_id', 'rating', 'name']]  # Include 'name' column\n",
    "\n",
    "# Build and train the Nearest Neighbors model\n",
    "knn_model = NearestNeighbors(n_neighbors=3, metric='cosine')\n",
    "knn_model.fit(X[['anime_id', 'rating']])  # Exclude 'name' column from model training\n",
    "\n",
    "# Make recommendations for a given anime (anime_id = 32281 for example)\n",
    "anime_id_to_recommend = 32281\n",
    "anime_to_recommend = data[data['anime_id'] == anime_id_to_recommend][['anime_id', 'rating', 'name']]  # Include 'name' column\n",
    "\n",
    "# Find the nearest neighbors\n",
    "distances, indices = knn_model.kneighbors(anime_to_recommend[['anime_id', 'rating']], n_neighbors=5)\n",
    "\n",
    "# Print recommended anime\n",
    "print(\"Top 5 recommended animes for\", anime_to_recommend['name'].values[0])\n",
    "for i, idx in enumerate(indices.flatten()):\n",
    "    recommended_anime = data.iloc[idx]\n",
    "    print(f\"{recommended_anime['name']} (Anime ID: {recommended_anime['anime_id']}), Similarity: {1 - distances.flatten()[i]}\")\n"
   ]
  },
  {
   "cell_type": "code",
   "execution_count": null,
   "metadata": {},
   "outputs": [],
   "source": []
  }
 ],
 "metadata": {
  "kernelspec": {
   "display_name": "Python 3",
   "language": "python",
   "name": "python3"
  },
  "language_info": {
   "codemirror_mode": {
    "name": "ipython",
    "version": 3
   },
   "file_extension": ".py",
   "mimetype": "text/x-python",
   "name": "python",
   "nbconvert_exporter": "python",
   "pygments_lexer": "ipython3",
   "version": "3.10.11"
  }
 },
 "nbformat": 4,
 "nbformat_minor": 2
}
